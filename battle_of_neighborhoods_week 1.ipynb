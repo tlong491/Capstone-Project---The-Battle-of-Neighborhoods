{
 "cells": [
  {
   "cell_type": "markdown",
   "metadata": {},
   "source": [
    "# Capstone Project - The Battle of Neighborhoods"
   ]
  },
  {
   "cell_type": "markdown",
   "metadata": {},
   "source": [
    "## Introduction"
   ]
  },
  {
   "cell_type": "markdown",
   "metadata": {},
   "source": [
    "This final project aims to explore Japanese restaurants located in the city of New York. New York city is home to thousands of different restaurants which are spread across its five boroughs. Japanese cuisine has seen a significant increase in popularity in the last few decades and this has in turn resulted in numerous Japanese restaurants populating New York city.\n",
    "\n",
    "Though Japanese cuisine has become extremely popular, a prospective business owner looking to open a new restaurant must carefully chose the best location to open their business. Factors such as local competition, demographics, population base etc. are very important in the decision process.\n",
    "\n",
    "This report will compare Japanese restaurants in New York in order to establish the best places to find Japanese cuisine in the city. Also, the report will provide insights into the frequency and average rating of Japanese restaurants around New York city. This information can be used to determine where a new Japanese restaurant may have the greatest possibility of success in New York."
   ]
  },
  {
   "cell_type": "markdown",
   "metadata": {},
   "source": [
    "## Data"
   ]
  },
  {
   "cell_type": "markdown",
   "metadata": {},
   "source": [
    "In order to carry out the analysis, data on New York City neighborhoods, boroughs to include boundaries, latitude, longitude, restaurants, and restaurant ratings and tips are required.\n",
    "\n",
    "New York City data containing the neighborhoods and boroughs, latitudes, and longitudes will be obtained from the data source: https://cocl.us/new_york_dataset\n",
    "\n",
    "All data related to locations and quality of Japanese restaurants will be obtained via the FourSquare API utilized via the Request library in Python."
   ]
  }
 ],
 "metadata": {
  "kernelspec": {
   "display_name": "Python",
   "language": "python",
   "name": "conda-env-python-py"
  },
  "language_info": {
   "codemirror_mode": {
    "name": "ipython",
    "version": 3
   },
   "file_extension": ".py",
   "mimetype": "text/x-python",
   "name": "python",
   "nbconvert_exporter": "python",
   "pygments_lexer": "ipython3",
   "version": "3.6.11"
  }
 },
 "nbformat": 4,
 "nbformat_minor": 4
}
